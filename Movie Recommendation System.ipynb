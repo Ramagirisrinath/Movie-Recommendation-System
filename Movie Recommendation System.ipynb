{
 "cells": [
  {
   "cell_type": "code",
   "execution_count": 2,
   "id": "a127a3ee-780e-4ad9-8ba5-1e8c002cb39f",
   "metadata": {},
   "outputs": [],
   "source": [
    "import numpy as np\n",
    "import pandas as pd\n",
    "import seaborn as sns"
   ]
  },
  {
   "cell_type": "markdown",
   "id": "03ce65ac-a36d-4d4b-98ff-09e407ddd1af",
   "metadata": {},
   "source": [
    "### 1.Taking the DataSet"
   ]
  },
  {
   "cell_type": "code",
   "execution_count": 3,
   "id": "754e7c97",
   "metadata": {},
   "outputs": [],
   "source": [
    "df=pd.read_csv(\"dataset.csv\")"
   ]
  },
  {
   "cell_type": "code",
   "execution_count": 4,
   "id": "6b85c611-a45e-4f74-95e6-a28f9f70fed3",
   "metadata": {
    "scrolled": true
   },
   "outputs": [
    {
     "data": {
      "text/html": [
       "<div>\n",
       "<style scoped>\n",
       "    .dataframe tbody tr th:only-of-type {\n",
       "        vertical-align: middle;\n",
       "    }\n",
       "\n",
       "    .dataframe tbody tr th {\n",
       "        vertical-align: top;\n",
       "    }\n",
       "\n",
       "    .dataframe thead th {\n",
       "        text-align: right;\n",
       "    }\n",
       "</style>\n",
       "<table border=\"1\" class=\"dataframe\">\n",
       "  <thead>\n",
       "    <tr style=\"text-align: right;\">\n",
       "      <th></th>\n",
       "      <th>id</th>\n",
       "      <th>title</th>\n",
       "      <th>genre</th>\n",
       "      <th>original_language</th>\n",
       "      <th>overview</th>\n",
       "      <th>popularity</th>\n",
       "      <th>release_date</th>\n",
       "      <th>vote_average</th>\n",
       "      <th>vote_count</th>\n",
       "    </tr>\n",
       "  </thead>\n",
       "  <tbody>\n",
       "    <tr>\n",
       "      <th>0</th>\n",
       "      <td>278</td>\n",
       "      <td>The Shawshank Redemption</td>\n",
       "      <td>Drama,Crime</td>\n",
       "      <td>en</td>\n",
       "      <td>Framed in the 1940s for the double murder of h...</td>\n",
       "      <td>94.075</td>\n",
       "      <td>1994-09-23</td>\n",
       "      <td>8.7</td>\n",
       "      <td>21862</td>\n",
       "    </tr>\n",
       "    <tr>\n",
       "      <th>1</th>\n",
       "      <td>19404</td>\n",
       "      <td>Dilwale Dulhania Le Jayenge</td>\n",
       "      <td>Comedy,Drama,Romance</td>\n",
       "      <td>hi</td>\n",
       "      <td>Raj is a rich, carefree, happy-go-lucky second...</td>\n",
       "      <td>25.408</td>\n",
       "      <td>1995-10-19</td>\n",
       "      <td>8.7</td>\n",
       "      <td>3731</td>\n",
       "    </tr>\n",
       "    <tr>\n",
       "      <th>2</th>\n",
       "      <td>238</td>\n",
       "      <td>The Godfather</td>\n",
       "      <td>Drama,Crime</td>\n",
       "      <td>en</td>\n",
       "      <td>Spanning the years 1945 to 1955, a chronicle o...</td>\n",
       "      <td>90.585</td>\n",
       "      <td>1972-03-14</td>\n",
       "      <td>8.7</td>\n",
       "      <td>16280</td>\n",
       "    </tr>\n",
       "    <tr>\n",
       "      <th>3</th>\n",
       "      <td>424</td>\n",
       "      <td>Schindler's List</td>\n",
       "      <td>Drama,History,War</td>\n",
       "      <td>en</td>\n",
       "      <td>The true story of how businessman Oskar Schind...</td>\n",
       "      <td>44.761</td>\n",
       "      <td>1993-12-15</td>\n",
       "      <td>8.6</td>\n",
       "      <td>12959</td>\n",
       "    </tr>\n",
       "    <tr>\n",
       "      <th>4</th>\n",
       "      <td>240</td>\n",
       "      <td>The Godfather: Part II</td>\n",
       "      <td>Drama,Crime</td>\n",
       "      <td>en</td>\n",
       "      <td>In the continuing saga of the Corleone crime f...</td>\n",
       "      <td>57.749</td>\n",
       "      <td>1974-12-20</td>\n",
       "      <td>8.6</td>\n",
       "      <td>9811</td>\n",
       "    </tr>\n",
       "  </tbody>\n",
       "</table>\n",
       "</div>"
      ],
      "text/plain": [
       "      id                        title                 genre original_language  \\\n",
       "0    278     The Shawshank Redemption           Drama,Crime                en   \n",
       "1  19404  Dilwale Dulhania Le Jayenge  Comedy,Drama,Romance                hi   \n",
       "2    238                The Godfather           Drama,Crime                en   \n",
       "3    424             Schindler's List     Drama,History,War                en   \n",
       "4    240       The Godfather: Part II           Drama,Crime                en   \n",
       "\n",
       "                                            overview  popularity release_date  \\\n",
       "0  Framed in the 1940s for the double murder of h...      94.075   1994-09-23   \n",
       "1  Raj is a rich, carefree, happy-go-lucky second...      25.408   1995-10-19   \n",
       "2  Spanning the years 1945 to 1955, a chronicle o...      90.585   1972-03-14   \n",
       "3  The true story of how businessman Oskar Schind...      44.761   1993-12-15   \n",
       "4  In the continuing saga of the Corleone crime f...      57.749   1974-12-20   \n",
       "\n",
       "   vote_average  vote_count  \n",
       "0           8.7       21862  \n",
       "1           8.7        3731  \n",
       "2           8.7       16280  \n",
       "3           8.6       12959  \n",
       "4           8.6        9811  "
      ]
     },
     "execution_count": 4,
     "metadata": {},
     "output_type": "execute_result"
    }
   ],
   "source": [
    "df.head()"
   ]
  },
  {
   "cell_type": "markdown",
   "id": "c364f31f-c8c9-4447-a4e4-10e62b12ed84",
   "metadata": {},
   "source": [
    "## 2. Exploratory Data Analysis"
   ]
  },
  {
   "cell_type": "code",
   "execution_count": 5,
   "id": "4fbb9996-d05d-429c-b5a1-ce2aa27bac71",
   "metadata": {},
   "outputs": [
    {
     "name": "stdout",
     "output_type": "stream",
     "text": [
      "(10000, 9)\n",
      "90000\n",
      "<class 'pandas.core.frame.DataFrame'>\n",
      "RangeIndex: 10000 entries, 0 to 9999\n",
      "Data columns (total 9 columns):\n",
      " #   Column             Non-Null Count  Dtype  \n",
      "---  ------             --------------  -----  \n",
      " 0   id                 10000 non-null  int64  \n",
      " 1   title              10000 non-null  object \n",
      " 2   genre              9997 non-null   object \n",
      " 3   original_language  10000 non-null  object \n",
      " 4   overview           9987 non-null   object \n",
      " 5   popularity         10000 non-null  float64\n",
      " 6   release_date       10000 non-null  object \n",
      " 7   vote_average       10000 non-null  float64\n",
      " 8   vote_count         10000 non-null  int64  \n",
      "dtypes: float64(2), int64(2), object(5)\n",
      "memory usage: 703.3+ KB\n",
      "None\n"
     ]
    }
   ],
   "source": [
    "print(df.shape)\n",
    "print(df.size)\n",
    "print(df.info())"
   ]
  },
  {
   "cell_type": "code",
   "execution_count": 6,
   "id": "f63b60b4-ff24-4d30-a9ef-95c4c3c91a2b",
   "metadata": {},
   "outputs": [
    {
     "name": "stdout",
     "output_type": "stream",
     "text": [
      "<bound method NDFrame.describe of           id                                          title  \\\n",
      "0        278                       The Shawshank Redemption   \n",
      "1      19404                    Dilwale Dulhania Le Jayenge   \n",
      "2        238                                  The Godfather   \n",
      "3        424                               Schindler's List   \n",
      "4        240                         The Godfather: Part II   \n",
      "...      ...                                            ...   \n",
      "9995   10196                             The Last Airbender   \n",
      "9996  331446                       Sharknado 3: Oh Hell No!   \n",
      "9997   13995                                Captain America   \n",
      "9998    2312  In the Name of the King: A Dungeon Siege Tale   \n",
      "9999  455957                                         Domino   \n",
      "\n",
      "                                                 genre original_language  \\\n",
      "0                                          Drama,Crime                en   \n",
      "1                                 Comedy,Drama,Romance                hi   \n",
      "2                                          Drama,Crime                en   \n",
      "3                                    Drama,History,War                en   \n",
      "4                                          Drama,Crime                en   \n",
      "...                                                ...               ...   \n",
      "9995                          Action,Adventure,Fantasy                en   \n",
      "9996  Action,TV Movie,Science Fiction,Comedy,Adventure                en   \n",
      "9997                        Action,Science Fiction,War                en   \n",
      "9998                    Adventure,Fantasy,Action,Drama                en   \n",
      "9999                             Thriller,Action,Crime                en   \n",
      "\n",
      "                                               overview  popularity  \\\n",
      "0     Framed in the 1940s for the double murder of h...      94.075   \n",
      "1     Raj is a rich, carefree, happy-go-lucky second...      25.408   \n",
      "2     Spanning the years 1945 to 1955, a chronicle o...      90.585   \n",
      "3     The true story of how businessman Oskar Schind...      44.761   \n",
      "4     In the continuing saga of the Corleone crime f...      57.749   \n",
      "...                                                 ...         ...   \n",
      "9995  The story follows the adventures of Aang, a yo...      98.322   \n",
      "9996  The sharks take bite out of the East Coast whe...      12.490   \n",
      "9997  During World War II, a brave, patriotic Americ...      18.333   \n",
      "9998  A man named Farmer sets out to rescue his kidn...      15.159   \n",
      "9999  Seeking justice for his partner’s murder by an...      16.482   \n",
      "\n",
      "     release_date  vote_average  vote_count  \n",
      "0      1994-09-23           8.7       21862  \n",
      "1      1995-10-19           8.7        3731  \n",
      "2      1972-03-14           8.7       16280  \n",
      "3      1993-12-15           8.6       12959  \n",
      "4      1974-12-20           8.6        9811  \n",
      "...           ...           ...         ...  \n",
      "9995   2010-06-30           4.7        3347  \n",
      "9996   2015-07-22           4.7         417  \n",
      "9997   1990-12-14           4.6         332  \n",
      "9998   2007-11-29           4.7         668  \n",
      "9999   2019-05-31           4.6         221  \n",
      "\n",
      "[10000 rows x 9 columns]>\n"
     ]
    }
   ],
   "source": [
    "print(df.describe)"
   ]
  },
  {
   "cell_type": "code",
   "execution_count": 7,
   "id": "1a5da90d-f573-4e5f-aba0-e702fa3c667e",
   "metadata": {},
   "outputs": [],
   "source": [
    "movies=df[[\"id\",\"title\",\"genre\",\"overview\"]]"
   ]
  },
  {
   "cell_type": "code",
   "execution_count": 8,
   "id": "175e15f7-38a8-4aa1-9bb9-dbaa82933bb1",
   "metadata": {},
   "outputs": [
    {
     "data": {
      "text/html": [
       "<div>\n",
       "<style scoped>\n",
       "    .dataframe tbody tr th:only-of-type {\n",
       "        vertical-align: middle;\n",
       "    }\n",
       "\n",
       "    .dataframe tbody tr th {\n",
       "        vertical-align: top;\n",
       "    }\n",
       "\n",
       "    .dataframe thead th {\n",
       "        text-align: right;\n",
       "    }\n",
       "</style>\n",
       "<table border=\"1\" class=\"dataframe\">\n",
       "  <thead>\n",
       "    <tr style=\"text-align: right;\">\n",
       "      <th></th>\n",
       "      <th>id</th>\n",
       "      <th>title</th>\n",
       "      <th>genre</th>\n",
       "      <th>overview</th>\n",
       "    </tr>\n",
       "  </thead>\n",
       "  <tbody>\n",
       "    <tr>\n",
       "      <th>0</th>\n",
       "      <td>278</td>\n",
       "      <td>The Shawshank Redemption</td>\n",
       "      <td>Drama,Crime</td>\n",
       "      <td>Framed in the 1940s for the double murder of h...</td>\n",
       "    </tr>\n",
       "    <tr>\n",
       "      <th>1</th>\n",
       "      <td>19404</td>\n",
       "      <td>Dilwale Dulhania Le Jayenge</td>\n",
       "      <td>Comedy,Drama,Romance</td>\n",
       "      <td>Raj is a rich, carefree, happy-go-lucky second...</td>\n",
       "    </tr>\n",
       "    <tr>\n",
       "      <th>2</th>\n",
       "      <td>238</td>\n",
       "      <td>The Godfather</td>\n",
       "      <td>Drama,Crime</td>\n",
       "      <td>Spanning the years 1945 to 1955, a chronicle o...</td>\n",
       "    </tr>\n",
       "    <tr>\n",
       "      <th>3</th>\n",
       "      <td>424</td>\n",
       "      <td>Schindler's List</td>\n",
       "      <td>Drama,History,War</td>\n",
       "      <td>The true story of how businessman Oskar Schind...</td>\n",
       "    </tr>\n",
       "    <tr>\n",
       "      <th>4</th>\n",
       "      <td>240</td>\n",
       "      <td>The Godfather: Part II</td>\n",
       "      <td>Drama,Crime</td>\n",
       "      <td>In the continuing saga of the Corleone crime f...</td>\n",
       "    </tr>\n",
       "  </tbody>\n",
       "</table>\n",
       "</div>"
      ],
      "text/plain": [
       "      id                        title                 genre  \\\n",
       "0    278     The Shawshank Redemption           Drama,Crime   \n",
       "1  19404  Dilwale Dulhania Le Jayenge  Comedy,Drama,Romance   \n",
       "2    238                The Godfather           Drama,Crime   \n",
       "3    424             Schindler's List     Drama,History,War   \n",
       "4    240       The Godfather: Part II           Drama,Crime   \n",
       "\n",
       "                                            overview  \n",
       "0  Framed in the 1940s for the double murder of h...  \n",
       "1  Raj is a rich, carefree, happy-go-lucky second...  \n",
       "2  Spanning the years 1945 to 1955, a chronicle o...  \n",
       "3  The true story of how businessman Oskar Schind...  \n",
       "4  In the continuing saga of the Corleone crime f...  "
      ]
     },
     "execution_count": 8,
     "metadata": {},
     "output_type": "execute_result"
    }
   ],
   "source": [
    "movies.head()"
   ]
  },
  {
   "cell_type": "code",
   "execution_count": 9,
   "id": "1a725fa0-31c5-4ee8-a55b-60ad657e2931",
   "metadata": {},
   "outputs": [
    {
     "name": "stderr",
     "output_type": "stream",
     "text": [
      "C:\\Users\\Srinath\\AppData\\Local\\Temp\\ipykernel_19192\\1842741410.py:1: SettingWithCopyWarning: \n",
      "A value is trying to be set on a copy of a slice from a DataFrame.\n",
      "Try using .loc[row_indexer,col_indexer] = value instead\n",
      "\n",
      "See the caveats in the documentation: https://pandas.pydata.org/pandas-docs/stable/user_guide/indexing.html#returning-a-view-versus-a-copy\n",
      "  movies[\"tags\"]=movies[\"genre\"]+movies[\"overview\"]\n"
     ]
    }
   ],
   "source": [
    "movies[\"tags\"]=movies[\"genre\"]+movies[\"overview\"]"
   ]
  },
  {
   "cell_type": "code",
   "execution_count": 10,
   "id": "c99c0b6f-d371-49f5-989a-fa131b2fe3c4",
   "metadata": {},
   "outputs": [],
   "source": [
    "new_df=movies.drop(columns=[\"genre\",\"overview\"],axis=1)"
   ]
  },
  {
   "cell_type": "code",
   "execution_count": 11,
   "id": "9f882791-ab67-450f-9d05-7b0c41dd7ea8",
   "metadata": {},
   "outputs": [
    {
     "data": {
      "text/html": [
       "<div>\n",
       "<style scoped>\n",
       "    .dataframe tbody tr th:only-of-type {\n",
       "        vertical-align: middle;\n",
       "    }\n",
       "\n",
       "    .dataframe tbody tr th {\n",
       "        vertical-align: top;\n",
       "    }\n",
       "\n",
       "    .dataframe thead th {\n",
       "        text-align: right;\n",
       "    }\n",
       "</style>\n",
       "<table border=\"1\" class=\"dataframe\">\n",
       "  <thead>\n",
       "    <tr style=\"text-align: right;\">\n",
       "      <th></th>\n",
       "      <th>id</th>\n",
       "      <th>title</th>\n",
       "      <th>tags</th>\n",
       "    </tr>\n",
       "  </thead>\n",
       "  <tbody>\n",
       "    <tr>\n",
       "      <th>0</th>\n",
       "      <td>278</td>\n",
       "      <td>The Shawshank Redemption</td>\n",
       "      <td>Drama,CrimeFramed in the 1940s for the double ...</td>\n",
       "    </tr>\n",
       "    <tr>\n",
       "      <th>1</th>\n",
       "      <td>19404</td>\n",
       "      <td>Dilwale Dulhania Le Jayenge</td>\n",
       "      <td>Comedy,Drama,RomanceRaj is a rich, carefree, h...</td>\n",
       "    </tr>\n",
       "    <tr>\n",
       "      <th>2</th>\n",
       "      <td>238</td>\n",
       "      <td>The Godfather</td>\n",
       "      <td>Drama,CrimeSpanning the years 1945 to 1955, a ...</td>\n",
       "    </tr>\n",
       "    <tr>\n",
       "      <th>3</th>\n",
       "      <td>424</td>\n",
       "      <td>Schindler's List</td>\n",
       "      <td>Drama,History,WarThe true story of how busines...</td>\n",
       "    </tr>\n",
       "    <tr>\n",
       "      <th>4</th>\n",
       "      <td>240</td>\n",
       "      <td>The Godfather: Part II</td>\n",
       "      <td>Drama,CrimeIn the continuing saga of the Corle...</td>\n",
       "    </tr>\n",
       "  </tbody>\n",
       "</table>\n",
       "</div>"
      ],
      "text/plain": [
       "      id                        title  \\\n",
       "0    278     The Shawshank Redemption   \n",
       "1  19404  Dilwale Dulhania Le Jayenge   \n",
       "2    238                The Godfather   \n",
       "3    424             Schindler's List   \n",
       "4    240       The Godfather: Part II   \n",
       "\n",
       "                                                tags  \n",
       "0  Drama,CrimeFramed in the 1940s for the double ...  \n",
       "1  Comedy,Drama,RomanceRaj is a rich, carefree, h...  \n",
       "2  Drama,CrimeSpanning the years 1945 to 1955, a ...  \n",
       "3  Drama,History,WarThe true story of how busines...  \n",
       "4  Drama,CrimeIn the continuing saga of the Corle...  "
      ]
     },
     "execution_count": 11,
     "metadata": {},
     "output_type": "execute_result"
    }
   ],
   "source": [
    "new_df.head()"
   ]
  },
  {
   "cell_type": "markdown",
   "id": "a53815c0-56e9-4510-a314-ebd73506abe4",
   "metadata": {},
   "source": [
    "## Count Vectorizer"
   ]
  },
  {
   "cell_type": "code",
   "execution_count": 12,
   "id": "94ca6a60-db42-4b19-b914-d46ddd0c9c2e",
   "metadata": {},
   "outputs": [],
   "source": [
    "from sklearn.feature_extraction.text import CountVectorizer"
   ]
  },
  {
   "cell_type": "code",
   "execution_count": 13,
   "id": "9bdf3ea7-4426-4c55-8840-2e7c71ada52e",
   "metadata": {},
   "outputs": [],
   "source": [
    "cv=CountVectorizer(max_features=10000,stop_words=\"english\")"
   ]
  },
  {
   "cell_type": "code",
   "execution_count": 14,
   "id": "873353f9-cd61-4643-9e37-fe52f8010d34",
   "metadata": {},
   "outputs": [],
   "source": [
    "vector=cv.fit_transform(new_df[\"tags\"].values.astype(\"U\")).toarray()"
   ]
  },
  {
   "cell_type": "code",
   "execution_count": null,
   "id": "7cbc4a9d",
   "metadata": {},
   "outputs": [],
   "source": []
  },
  {
   "cell_type": "code",
   "execution_count": 15,
   "id": "af2dd876-0e58-430b-9bc3-3d894c05c1f9",
   "metadata": {},
   "outputs": [
    {
     "data": {
      "text/plain": [
       "(10000, 10000)"
      ]
     },
     "execution_count": 15,
     "metadata": {},
     "output_type": "execute_result"
    }
   ],
   "source": [
    "vector.shape"
   ]
  },
  {
   "cell_type": "markdown",
   "id": "7e25468a-6946-4a5c-b6aa-ad50cefb35f9",
   "metadata": {},
   "source": [
    "## Cosine Similarity"
   ]
  },
  {
   "cell_type": "code",
   "execution_count": 16,
   "id": "15a62f3b-fd11-4100-842b-f3f33045b6d3",
   "metadata": {},
   "outputs": [],
   "source": [
    "from sklearn.metrics.pairwise import cosine_similarity"
   ]
  },
  {
   "cell_type": "code",
   "execution_count": 17,
   "id": "71714ed2-f306-4c94-81e3-375f48da5526",
   "metadata": {},
   "outputs": [],
   "source": [
    "similarity=cosine_similarity(vector)"
   ]
  },
  {
   "cell_type": "code",
   "execution_count": 18,
   "id": "6d29d6bc-83dd-4dd6-a5ff-d4d0e7f2eae9",
   "metadata": {},
   "outputs": [
    {
     "data": {
      "text/plain": [
       "array([[1.        , 0.06253054, 0.05802589, ..., 0.07963978, 0.07597372,\n",
       "        0.03798686],\n",
       "       [0.06253054, 1.        , 0.08980265, ..., 0.        , 0.        ,\n",
       "        0.        ],\n",
       "       [0.05802589, 0.08980265, 1.        , ..., 0.02541643, 0.03636965,\n",
       "        0.        ],\n",
       "       ...,\n",
       "       [0.07963978, 0.        , 0.02541643, ..., 1.        , 0.03327792,\n",
       "        0.03327792],\n",
       "       [0.07597372, 0.        , 0.03636965, ..., 0.03327792, 1.        ,\n",
       "        0.04761905],\n",
       "       [0.03798686, 0.        , 0.        , ..., 0.03327792, 0.04761905,\n",
       "        1.        ]])"
      ]
     },
     "execution_count": 18,
     "metadata": {},
     "output_type": "execute_result"
    }
   ],
   "source": [
    "similarity"
   ]
  },
  {
   "cell_type": "code",
   "execution_count": 19,
   "id": "5ca2cf5c-fb38-45b5-ba36-5980656afd07",
   "metadata": {},
   "outputs": [
    {
     "data": {
      "text/plain": [
       "969"
      ]
     },
     "execution_count": 19,
     "metadata": {},
     "output_type": "execute_result"
    }
   ],
   "source": [
    "new_df[new_df[\"title\"]==\"Iron Man\"].index[0]"
   ]
  },
  {
   "cell_type": "code",
   "execution_count": 20,
   "id": "10f8acdc-333c-400c-9796-bbe939873692",
   "metadata": {},
   "outputs": [
    {
     "name": "stdout",
     "output_type": "stream",
     "text": [
      "Spider-Man\n",
      "Spider-Man: Into the Spider-Verse\n",
      "Spider-Man 3\n",
      "Spider-Man: Homecoming\n",
      "The Amazing Spider-Man 2\n"
     ]
    }
   ],
   "source": [
    "distance=sorted(list(enumerate(similarity[2266])),reverse=True,key=lambda vector:vector[1])\n",
    "for i in distance[0:5]:\n",
    "    print(new_df.iloc[i[0]].title)"
   ]
  },
  {
   "cell_type": "code",
   "execution_count": 21,
   "id": "e385c66e-c065-471d-8970-d4c10d0aa583",
   "metadata": {},
   "outputs": [],
   "source": [
    "def recommend(movies):\n",
    "    index=new_df[new_df[\"title\"]==movies].index[0]\n",
    "    distance=sorted(list(enumerate(similarity[index])),reverse=True,key=lambda vector:vector[1])\n",
    "    for i in distance[0:20]:\n",
    "        print(new_df.iloc[i[0]].title)"
   ]
  },
  {
   "cell_type": "code",
   "execution_count": 22,
   "id": "e19b8ad8-3365-4338-a3a9-8a3e6a812238",
   "metadata": {},
   "outputs": [
    {
     "name": "stdout",
     "output_type": "stream",
     "text": [
      "Iron Man\n",
      "Mazinger Z: Infinity\n",
      "Justice League Dark\n",
      "Iron Man 3\n",
      "The Colony\n",
      "Marvel One-Shot: Item 47\n",
      "Insurgent\n",
      "Iron Man 2\n",
      "Star Wars: The Force Awakens\n",
      "The Rocketeer\n",
      "The New Mutants\n",
      "Avengers: Age of Ultron\n",
      "Regular Show: The Movie\n",
      "Suicide Squad: Hell to Pay\n",
      "The Lawnmower Man\n",
      "Dead Rising: Watchtower\n",
      "Venom: Let There Be Carnage\n",
      "Resident Evil: Extinction\n",
      "Guardians of the Galaxy Vol. 2\n",
      "The 6th Day\n"
     ]
    }
   ],
   "source": [
    "recommend(\"Iron Man\")"
   ]
  },
  {
   "cell_type": "markdown",
   "id": "4a04df0d-f808-43c0-88ea-84eeb622b20c",
   "metadata": {},
   "source": [
    "## Pickle Module"
   ]
  },
  {
   "cell_type": "code",
   "execution_count": 23,
   "id": "d402d28e-4d20-47cf-8ecc-1b854e21eb2b",
   "metadata": {},
   "outputs": [],
   "source": [
    "import pickle"
   ]
  },
  {
   "cell_type": "code",
   "execution_count": 24,
   "id": "0ba92e1d-9a88-4e33-8cdc-2cc5c87b9584",
   "metadata": {},
   "outputs": [],
   "source": [
    "pickle.dump(new_df,open(\"movies_list\",\"wb\"))"
   ]
  },
  {
   "cell_type": "code",
   "execution_count": 25,
   "id": "10fc847c-b207-4443-a3d1-cf45b9b8f85c",
   "metadata": {},
   "outputs": [],
   "source": [
    "pickle.dump(similarity,open(\"similarity.pkl\",\"wb\"))"
   ]
  },
  {
   "cell_type": "code",
   "execution_count": 26,
   "id": "fdbd425c-551c-4fcf-95d6-c2ab2bdf32c1",
   "metadata": {},
   "outputs": [
    {
     "data": {
      "text/html": [
       "<div>\n",
       "<style scoped>\n",
       "    .dataframe tbody tr th:only-of-type {\n",
       "        vertical-align: middle;\n",
       "    }\n",
       "\n",
       "    .dataframe tbody tr th {\n",
       "        vertical-align: top;\n",
       "    }\n",
       "\n",
       "    .dataframe thead th {\n",
       "        text-align: right;\n",
       "    }\n",
       "</style>\n",
       "<table border=\"1\" class=\"dataframe\">\n",
       "  <thead>\n",
       "    <tr style=\"text-align: right;\">\n",
       "      <th></th>\n",
       "      <th>id</th>\n",
       "      <th>title</th>\n",
       "      <th>tags</th>\n",
       "    </tr>\n",
       "  </thead>\n",
       "  <tbody>\n",
       "    <tr>\n",
       "      <th>0</th>\n",
       "      <td>278</td>\n",
       "      <td>The Shawshank Redemption</td>\n",
       "      <td>Drama,CrimeFramed in the 1940s for the double ...</td>\n",
       "    </tr>\n",
       "    <tr>\n",
       "      <th>1</th>\n",
       "      <td>19404</td>\n",
       "      <td>Dilwale Dulhania Le Jayenge</td>\n",
       "      <td>Comedy,Drama,RomanceRaj is a rich, carefree, h...</td>\n",
       "    </tr>\n",
       "    <tr>\n",
       "      <th>2</th>\n",
       "      <td>238</td>\n",
       "      <td>The Godfather</td>\n",
       "      <td>Drama,CrimeSpanning the years 1945 to 1955, a ...</td>\n",
       "    </tr>\n",
       "    <tr>\n",
       "      <th>3</th>\n",
       "      <td>424</td>\n",
       "      <td>Schindler's List</td>\n",
       "      <td>Drama,History,WarThe true story of how busines...</td>\n",
       "    </tr>\n",
       "    <tr>\n",
       "      <th>4</th>\n",
       "      <td>240</td>\n",
       "      <td>The Godfather: Part II</td>\n",
       "      <td>Drama,CrimeIn the continuing saga of the Corle...</td>\n",
       "    </tr>\n",
       "    <tr>\n",
       "      <th>...</th>\n",
       "      <td>...</td>\n",
       "      <td>...</td>\n",
       "      <td>...</td>\n",
       "    </tr>\n",
       "    <tr>\n",
       "      <th>9995</th>\n",
       "      <td>10196</td>\n",
       "      <td>The Last Airbender</td>\n",
       "      <td>Action,Adventure,FantasyThe story follows the ...</td>\n",
       "    </tr>\n",
       "    <tr>\n",
       "      <th>9996</th>\n",
       "      <td>331446</td>\n",
       "      <td>Sharknado 3: Oh Hell No!</td>\n",
       "      <td>Action,TV Movie,Science Fiction,Comedy,Adventu...</td>\n",
       "    </tr>\n",
       "    <tr>\n",
       "      <th>9997</th>\n",
       "      <td>13995</td>\n",
       "      <td>Captain America</td>\n",
       "      <td>Action,Science Fiction,WarDuring World War II,...</td>\n",
       "    </tr>\n",
       "    <tr>\n",
       "      <th>9998</th>\n",
       "      <td>2312</td>\n",
       "      <td>In the Name of the King: A Dungeon Siege Tale</td>\n",
       "      <td>Adventure,Fantasy,Action,DramaA man named Farm...</td>\n",
       "    </tr>\n",
       "    <tr>\n",
       "      <th>9999</th>\n",
       "      <td>455957</td>\n",
       "      <td>Domino</td>\n",
       "      <td>Thriller,Action,CrimeSeeking justice for his p...</td>\n",
       "    </tr>\n",
       "  </tbody>\n",
       "</table>\n",
       "<p>10000 rows × 3 columns</p>\n",
       "</div>"
      ],
      "text/plain": [
       "          id                                          title  \\\n",
       "0        278                       The Shawshank Redemption   \n",
       "1      19404                    Dilwale Dulhania Le Jayenge   \n",
       "2        238                                  The Godfather   \n",
       "3        424                               Schindler's List   \n",
       "4        240                         The Godfather: Part II   \n",
       "...      ...                                            ...   \n",
       "9995   10196                             The Last Airbender   \n",
       "9996  331446                       Sharknado 3: Oh Hell No!   \n",
       "9997   13995                                Captain America   \n",
       "9998    2312  In the Name of the King: A Dungeon Siege Tale   \n",
       "9999  455957                                         Domino   \n",
       "\n",
       "                                                   tags  \n",
       "0     Drama,CrimeFramed in the 1940s for the double ...  \n",
       "1     Comedy,Drama,RomanceRaj is a rich, carefree, h...  \n",
       "2     Drama,CrimeSpanning the years 1945 to 1955, a ...  \n",
       "3     Drama,History,WarThe true story of how busines...  \n",
       "4     Drama,CrimeIn the continuing saga of the Corle...  \n",
       "...                                                 ...  \n",
       "9995  Action,Adventure,FantasyThe story follows the ...  \n",
       "9996  Action,TV Movie,Science Fiction,Comedy,Adventu...  \n",
       "9997  Action,Science Fiction,WarDuring World War II,...  \n",
       "9998  Adventure,Fantasy,Action,DramaA man named Farm...  \n",
       "9999  Thriller,Action,CrimeSeeking justice for his p...  \n",
       "\n",
       "[10000 rows x 3 columns]"
      ]
     },
     "execution_count": 26,
     "metadata": {},
     "output_type": "execute_result"
    }
   ],
   "source": [
    "pickle.load(open(\"movies_list\",\"rb\"))"
   ]
  },
  {
   "cell_type": "code",
   "execution_count": 27,
   "id": "dfe2d1b9-375a-4214-b047-719b09ecbc8d",
   "metadata": {},
   "outputs": [
    {
     "data": {
      "text/plain": [
       "array([[1.        , 0.06253054, 0.05802589, ..., 0.07963978, 0.07597372,\n",
       "        0.03798686],\n",
       "       [0.06253054, 1.        , 0.08980265, ..., 0.        , 0.        ,\n",
       "        0.        ],\n",
       "       [0.05802589, 0.08980265, 1.        , ..., 0.02541643, 0.03636965,\n",
       "        0.        ],\n",
       "       ...,\n",
       "       [0.07963978, 0.        , 0.02541643, ..., 1.        , 0.03327792,\n",
       "        0.03327792],\n",
       "       [0.07597372, 0.        , 0.03636965, ..., 0.03327792, 1.        ,\n",
       "        0.04761905],\n",
       "       [0.03798686, 0.        , 0.        , ..., 0.03327792, 0.04761905,\n",
       "        1.        ]])"
      ]
     },
     "execution_count": 27,
     "metadata": {},
     "output_type": "execute_result"
    }
   ],
   "source": [
    "pickle.load(open(\"similarity.pkl\",\"rb\"))"
   ]
  }
 ],
 "metadata": {
  "kernelspec": {
   "display_name": "Python 3 (ipykernel)",
   "language": "python",
   "name": "python3"
  },
  "language_info": {
   "codemirror_mode": {
    "name": "ipython",
    "version": 3
   },
   "file_extension": ".py",
   "mimetype": "text/x-python",
   "name": "python",
   "nbconvert_exporter": "python",
   "pygments_lexer": "ipython3",
   "version": "3.11.4"
  }
 },
 "nbformat": 4,
 "nbformat_minor": 5
}
